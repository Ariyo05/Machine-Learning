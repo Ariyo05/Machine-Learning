{
  "nbformat": 4,
  "nbformat_minor": 0,
  "metadata": {
    "colab": {
      "name": "Beverages.ipynb",
      "provenance": [],
      "authorship_tag": "ABX9TyONkUVtfrwxo9Qt6x4WaM7F",
      "include_colab_link": true
    },
    "kernelspec": {
      "name": "python3",
      "display_name": "Python 3"
    },
    "language_info": {
      "name": "python"
    }
  },
  "cells": [
    {
      "cell_type": "markdown",
      "metadata": {
        "id": "view-in-github",
        "colab_type": "text"
      },
      "source": [
        "<a href=\"https://colab.research.google.com/github/Ariyo05/Machine-Learning/blob/main/Beverages.ipynb\" target=\"_parent\"><img src=\"https://colab.research.google.com/assets/colab-badge.svg\" alt=\"Open In Colab\"/></a>"
      ]
    },
    {
      "cell_type": "code",
      "metadata": {
        "colab": {
          "base_uri": "https://localhost:8080/"
        },
        "id": "zpM9VKCL7EKu",
        "outputId": "704d785c-b1a1-42c1-9847-535070c5fd62"
      },
      "source": [
        "!pip install apyori"
      ],
      "execution_count": 1,
      "outputs": [
        {
          "output_type": "stream",
          "name": "stdout",
          "text": [
            "Collecting apyori\n",
            "  Downloading apyori-1.1.2.tar.gz (8.6 kB)\n",
            "Building wheels for collected packages: apyori\n",
            "  Building wheel for apyori (setup.py) ... \u001b[?25l\u001b[?25hdone\n",
            "  Created wheel for apyori: filename=apyori-1.1.2-py3-none-any.whl size=5974 sha256=20e4fa38ebcf11683c0d2513bd5e032c8466c1f2d0db048c876b5ae7cbd519a9\n",
            "  Stored in directory: /root/.cache/pip/wheels/cb/f6/e1/57973c631d27efd1a2f375bd6a83b2a616c4021f24aab84080\n",
            "Successfully built apyori\n",
            "Installing collected packages: apyori\n",
            "Successfully installed apyori-1.1.2\n"
          ]
        }
      ]
    },
    {
      "cell_type": "code",
      "metadata": {
        "id": "k_NqNXTg-EmK"
      },
      "source": [
        "import pandas as pd\n",
        "import numpy as np\n",
        "import matplotlib.pyplot as plt\n",
        "import seaborn as sns"
      ],
      "execution_count": 12,
      "outputs": []
    },
    {
      "cell_type": "markdown",
      "metadata": {
        "id": "jw3z50P7nUuh"
      },
      "source": [
        ""
      ]
    },
    {
      "cell_type": "code",
      "metadata": {
        "id": "x0Vgnyjk-HX6",
        "colab": {
          "base_uri": "https://localhost:8080/",
          "height": 206
        },
        "outputId": "51b6ebf8-d125-423c-dbe2-99f1d9b7ac5f"
      },
      "source": [
        "df = pd.read_csv('GroceryStoreDataSet.csv', header = None)\n",
        "df.head()"
      ],
      "execution_count": 13,
      "outputs": [
        {
          "output_type": "execute_result",
          "data": {
            "text/html": [
              "<div>\n",
              "<style scoped>\n",
              "    .dataframe tbody tr th:only-of-type {\n",
              "        vertical-align: middle;\n",
              "    }\n",
              "\n",
              "    .dataframe tbody tr th {\n",
              "        vertical-align: top;\n",
              "    }\n",
              "\n",
              "    .dataframe thead th {\n",
              "        text-align: right;\n",
              "    }\n",
              "</style>\n",
              "<table border=\"1\" class=\"dataframe\">\n",
              "  <thead>\n",
              "    <tr style=\"text-align: right;\">\n",
              "      <th></th>\n",
              "      <th>0</th>\n",
              "    </tr>\n",
              "  </thead>\n",
              "  <tbody>\n",
              "    <tr>\n",
              "      <th>0</th>\n",
              "      <td>MILK,BREAD,BISCUIT</td>\n",
              "    </tr>\n",
              "    <tr>\n",
              "      <th>1</th>\n",
              "      <td>BREAD,MILK,BISCUIT,CORNFLAKES</td>\n",
              "    </tr>\n",
              "    <tr>\n",
              "      <th>2</th>\n",
              "      <td>BREAD,TEA,BOURNVITA</td>\n",
              "    </tr>\n",
              "    <tr>\n",
              "      <th>3</th>\n",
              "      <td>JAM,MAGGI,BREAD,MILK</td>\n",
              "    </tr>\n",
              "    <tr>\n",
              "      <th>4</th>\n",
              "      <td>MAGGI,TEA,BISCUIT</td>\n",
              "    </tr>\n",
              "  </tbody>\n",
              "</table>\n",
              "</div>"
            ],
            "text/plain": [
              "                               0\n",
              "0             MILK,BREAD,BISCUIT\n",
              "1  BREAD,MILK,BISCUIT,CORNFLAKES\n",
              "2            BREAD,TEA,BOURNVITA\n",
              "3           JAM,MAGGI,BREAD,MILK\n",
              "4              MAGGI,TEA,BISCUIT"
            ]
          },
          "metadata": {},
          "execution_count": 13
        }
      ]
    },
    {
      "cell_type": "code",
      "metadata": {
        "id": "yJY6LVg__UbV"
      },
      "source": [
        "df.columns = ['Beverages']"
      ],
      "execution_count": 14,
      "outputs": []
    },
    {
      "cell_type": "code",
      "metadata": {
        "id": "FCfE7mru_yDU",
        "colab": {
          "base_uri": "https://localhost:8080/",
          "height": 206
        },
        "outputId": "88d05375-86cd-4c9d-ad47-8f7820a02a92"
      },
      "source": [
        "df.head()"
      ],
      "execution_count": 15,
      "outputs": [
        {
          "output_type": "execute_result",
          "data": {
            "text/html": [
              "<div>\n",
              "<style scoped>\n",
              "    .dataframe tbody tr th:only-of-type {\n",
              "        vertical-align: middle;\n",
              "    }\n",
              "\n",
              "    .dataframe tbody tr th {\n",
              "        vertical-align: top;\n",
              "    }\n",
              "\n",
              "    .dataframe thead th {\n",
              "        text-align: right;\n",
              "    }\n",
              "</style>\n",
              "<table border=\"1\" class=\"dataframe\">\n",
              "  <thead>\n",
              "    <tr style=\"text-align: right;\">\n",
              "      <th></th>\n",
              "      <th>Beverages</th>\n",
              "    </tr>\n",
              "  </thead>\n",
              "  <tbody>\n",
              "    <tr>\n",
              "      <th>0</th>\n",
              "      <td>MILK,BREAD,BISCUIT</td>\n",
              "    </tr>\n",
              "    <tr>\n",
              "      <th>1</th>\n",
              "      <td>BREAD,MILK,BISCUIT,CORNFLAKES</td>\n",
              "    </tr>\n",
              "    <tr>\n",
              "      <th>2</th>\n",
              "      <td>BREAD,TEA,BOURNVITA</td>\n",
              "    </tr>\n",
              "    <tr>\n",
              "      <th>3</th>\n",
              "      <td>JAM,MAGGI,BREAD,MILK</td>\n",
              "    </tr>\n",
              "    <tr>\n",
              "      <th>4</th>\n",
              "      <td>MAGGI,TEA,BISCUIT</td>\n",
              "    </tr>\n",
              "  </tbody>\n",
              "</table>\n",
              "</div>"
            ],
            "text/plain": [
              "                       Beverages\n",
              "0             MILK,BREAD,BISCUIT\n",
              "1  BREAD,MILK,BISCUIT,CORNFLAKES\n",
              "2            BREAD,TEA,BOURNVITA\n",
              "3           JAM,MAGGI,BREAD,MILK\n",
              "4              MAGGI,TEA,BISCUIT"
            ]
          },
          "metadata": {},
          "execution_count": 15
        }
      ]
    },
    {
      "cell_type": "code",
      "metadata": {
        "id": "QPxCYj0pKpOy"
      },
      "source": [
        "df_new = df['Beverages'].str.split(',', expand = True)"
      ],
      "execution_count": 16,
      "outputs": []
    },
    {
      "cell_type": "code",
      "metadata": {
        "colab": {
          "base_uri": "https://localhost:8080/",
          "height": 676
        },
        "id": "pK23oK-oK8HT",
        "outputId": "6e55ae95-a650-45a8-8029-7744925af35e"
      },
      "source": [
        "df_new"
      ],
      "execution_count": 17,
      "outputs": [
        {
          "output_type": "execute_result",
          "data": {
            "text/html": [
              "<div>\n",
              "<style scoped>\n",
              "    .dataframe tbody tr th:only-of-type {\n",
              "        vertical-align: middle;\n",
              "    }\n",
              "\n",
              "    .dataframe tbody tr th {\n",
              "        vertical-align: top;\n",
              "    }\n",
              "\n",
              "    .dataframe thead th {\n",
              "        text-align: right;\n",
              "    }\n",
              "</style>\n",
              "<table border=\"1\" class=\"dataframe\">\n",
              "  <thead>\n",
              "    <tr style=\"text-align: right;\">\n",
              "      <th></th>\n",
              "      <th>0</th>\n",
              "      <th>1</th>\n",
              "      <th>2</th>\n",
              "      <th>3</th>\n",
              "    </tr>\n",
              "  </thead>\n",
              "  <tbody>\n",
              "    <tr>\n",
              "      <th>0</th>\n",
              "      <td>MILK</td>\n",
              "      <td>BREAD</td>\n",
              "      <td>BISCUIT</td>\n",
              "      <td>None</td>\n",
              "    </tr>\n",
              "    <tr>\n",
              "      <th>1</th>\n",
              "      <td>BREAD</td>\n",
              "      <td>MILK</td>\n",
              "      <td>BISCUIT</td>\n",
              "      <td>CORNFLAKES</td>\n",
              "    </tr>\n",
              "    <tr>\n",
              "      <th>2</th>\n",
              "      <td>BREAD</td>\n",
              "      <td>TEA</td>\n",
              "      <td>BOURNVITA</td>\n",
              "      <td>None</td>\n",
              "    </tr>\n",
              "    <tr>\n",
              "      <th>3</th>\n",
              "      <td>JAM</td>\n",
              "      <td>MAGGI</td>\n",
              "      <td>BREAD</td>\n",
              "      <td>MILK</td>\n",
              "    </tr>\n",
              "    <tr>\n",
              "      <th>4</th>\n",
              "      <td>MAGGI</td>\n",
              "      <td>TEA</td>\n",
              "      <td>BISCUIT</td>\n",
              "      <td>None</td>\n",
              "    </tr>\n",
              "    <tr>\n",
              "      <th>5</th>\n",
              "      <td>BREAD</td>\n",
              "      <td>TEA</td>\n",
              "      <td>BOURNVITA</td>\n",
              "      <td>None</td>\n",
              "    </tr>\n",
              "    <tr>\n",
              "      <th>6</th>\n",
              "      <td>MAGGI</td>\n",
              "      <td>TEA</td>\n",
              "      <td>CORNFLAKES</td>\n",
              "      <td>None</td>\n",
              "    </tr>\n",
              "    <tr>\n",
              "      <th>7</th>\n",
              "      <td>MAGGI</td>\n",
              "      <td>BREAD</td>\n",
              "      <td>TEA</td>\n",
              "      <td>BISCUIT</td>\n",
              "    </tr>\n",
              "    <tr>\n",
              "      <th>8</th>\n",
              "      <td>JAM</td>\n",
              "      <td>MAGGI</td>\n",
              "      <td>BREAD</td>\n",
              "      <td>TEA</td>\n",
              "    </tr>\n",
              "    <tr>\n",
              "      <th>9</th>\n",
              "      <td>BREAD</td>\n",
              "      <td>MILK</td>\n",
              "      <td>None</td>\n",
              "      <td>None</td>\n",
              "    </tr>\n",
              "    <tr>\n",
              "      <th>10</th>\n",
              "      <td>COFFEE</td>\n",
              "      <td>COCK</td>\n",
              "      <td>BISCUIT</td>\n",
              "      <td>CORNFLAKES</td>\n",
              "    </tr>\n",
              "    <tr>\n",
              "      <th>11</th>\n",
              "      <td>COFFEE</td>\n",
              "      <td>COCK</td>\n",
              "      <td>BISCUIT</td>\n",
              "      <td>CORNFLAKES</td>\n",
              "    </tr>\n",
              "    <tr>\n",
              "      <th>12</th>\n",
              "      <td>COFFEE</td>\n",
              "      <td>SUGER</td>\n",
              "      <td>BOURNVITA</td>\n",
              "      <td>None</td>\n",
              "    </tr>\n",
              "    <tr>\n",
              "      <th>13</th>\n",
              "      <td>BREAD</td>\n",
              "      <td>COFFEE</td>\n",
              "      <td>COCK</td>\n",
              "      <td>None</td>\n",
              "    </tr>\n",
              "    <tr>\n",
              "      <th>14</th>\n",
              "      <td>BREAD</td>\n",
              "      <td>SUGER</td>\n",
              "      <td>BISCUIT</td>\n",
              "      <td>None</td>\n",
              "    </tr>\n",
              "    <tr>\n",
              "      <th>15</th>\n",
              "      <td>COFFEE</td>\n",
              "      <td>SUGER</td>\n",
              "      <td>CORNFLAKES</td>\n",
              "      <td>None</td>\n",
              "    </tr>\n",
              "    <tr>\n",
              "      <th>16</th>\n",
              "      <td>BREAD</td>\n",
              "      <td>SUGER</td>\n",
              "      <td>BOURNVITA</td>\n",
              "      <td>None</td>\n",
              "    </tr>\n",
              "    <tr>\n",
              "      <th>17</th>\n",
              "      <td>BREAD</td>\n",
              "      <td>COFFEE</td>\n",
              "      <td>SUGER</td>\n",
              "      <td>None</td>\n",
              "    </tr>\n",
              "    <tr>\n",
              "      <th>18</th>\n",
              "      <td>BREAD</td>\n",
              "      <td>COFFEE</td>\n",
              "      <td>SUGER</td>\n",
              "      <td>None</td>\n",
              "    </tr>\n",
              "    <tr>\n",
              "      <th>19</th>\n",
              "      <td>TEA</td>\n",
              "      <td>MILK</td>\n",
              "      <td>COFFEE</td>\n",
              "      <td>CORNFLAKES</td>\n",
              "    </tr>\n",
              "  </tbody>\n",
              "</table>\n",
              "</div>"
            ],
            "text/plain": [
              "         0       1           2           3\n",
              "0     MILK   BREAD     BISCUIT        None\n",
              "1    BREAD    MILK     BISCUIT  CORNFLAKES\n",
              "2    BREAD     TEA   BOURNVITA        None\n",
              "3      JAM   MAGGI       BREAD        MILK\n",
              "4    MAGGI     TEA     BISCUIT        None\n",
              "5    BREAD     TEA   BOURNVITA        None\n",
              "6    MAGGI     TEA  CORNFLAKES        None\n",
              "7    MAGGI   BREAD         TEA     BISCUIT\n",
              "8      JAM   MAGGI       BREAD         TEA\n",
              "9    BREAD    MILK        None        None\n",
              "10  COFFEE    COCK     BISCUIT  CORNFLAKES\n",
              "11  COFFEE    COCK     BISCUIT  CORNFLAKES\n",
              "12  COFFEE   SUGER   BOURNVITA        None\n",
              "13   BREAD  COFFEE        COCK        None\n",
              "14   BREAD   SUGER     BISCUIT        None\n",
              "15  COFFEE   SUGER  CORNFLAKES        None\n",
              "16   BREAD   SUGER   BOURNVITA        None\n",
              "17   BREAD  COFFEE       SUGER        None\n",
              "18   BREAD  COFFEE       SUGER        None\n",
              "19     TEA    MILK      COFFEE  CORNFLAKES"
            ]
          },
          "metadata": {},
          "execution_count": 17
        }
      ]
    },
    {
      "cell_type": "code",
      "metadata": {
        "id": "tvKLxVfzK9aq"
      },
      "source": [
        "transaction = []\n",
        "for i in range(0, 20):\n",
        "  transaction.append([str(df_new.values[i, j]) for j in range(0, 3)])"
      ],
      "execution_count": 18,
      "outputs": []
    },
    {
      "cell_type": "code",
      "metadata": {
        "id": "hsZC2nxCMhZO"
      },
      "source": [
        "from apyori import apriori\n",
        "rules = apriori(transactions = transaction, min_support = 0.019, min_confidence = 0.2, min_lift = 3, min_lenght =2, max_length =3)"
      ],
      "execution_count": 25,
      "outputs": []
    },
    {
      "cell_type": "code",
      "metadata": {
        "colab": {
          "base_uri": "https://localhost:8080/"
        },
        "id": "JHJqXa8ANOwC",
        "outputId": "397a68d4-5f28-4803-d18a-b85fa0149808"
      },
      "source": [
        "results = list(rules)\n",
        "results"
      ],
      "execution_count": 26,
      "outputs": [
        {
          "output_type": "execute_result",
          "data": {
            "text/plain": [
              "[RelationRecord(items=frozenset({'MAGGI', 'JAM'}), support=0.1, ordered_statistics=[OrderedStatistic(items_base=frozenset({'JAM'}), items_add=frozenset({'MAGGI'}), confidence=1.0, lift=4.0), OrderedStatistic(items_base=frozenset({'MAGGI'}), items_add=frozenset({'JAM'}), confidence=0.4, lift=4.0)]),\n",
              " RelationRecord(items=frozenset({'None', 'MILK'}), support=0.05, ordered_statistics=[OrderedStatistic(items_base=frozenset({'MILK'}), items_add=frozenset({'None'}), confidence=0.25, lift=5.0), OrderedStatistic(items_base=frozenset({'None'}), items_add=frozenset({'MILK'}), confidence=1.0, lift=5.0)]),\n",
              " RelationRecord(items=frozenset({'BREAD', 'BISCUIT', 'MILK'}), support=0.1, ordered_statistics=[OrderedStatistic(items_base=frozenset({'MILK'}), items_add=frozenset({'BREAD', 'BISCUIT'}), confidence=0.5, lift=3.3333333333333335), OrderedStatistic(items_base=frozenset({'BREAD', 'BISCUIT'}), items_add=frozenset({'MILK'}), confidence=0.6666666666666667, lift=3.3333333333333335)]),\n",
              " RelationRecord(items=frozenset({'COFFEE', 'BISCUIT', 'COCK'}), support=0.1, ordered_statistics=[OrderedStatistic(items_base=frozenset({'COCK'}), items_add=frozenset({'BISCUIT', 'COFFEE'}), confidence=0.6666666666666667, lift=6.666666666666667), OrderedStatistic(items_base=frozenset({'COFFEE', 'BISCUIT'}), items_add=frozenset({'COCK'}), confidence=1.0, lift=6.666666666666667)]),\n",
              " RelationRecord(items=frozenset({'MAGGI', 'BISCUIT', 'TEA'}), support=0.05, ordered_statistics=[OrderedStatistic(items_base=frozenset({'MAGGI'}), items_add=frozenset({'BISCUIT', 'TEA'}), confidence=0.2, lift=4.0), OrderedStatistic(items_base=frozenset({'MAGGI', 'BISCUIT'}), items_add=frozenset({'TEA'}), confidence=1.0, lift=3.3333333333333335), OrderedStatistic(items_base=frozenset({'BISCUIT', 'TEA'}), items_add=frozenset({'MAGGI'}), confidence=1.0, lift=4.0)]),\n",
              " RelationRecord(items=frozenset({'BOURNVITA', 'BREAD', 'TEA'}), support=0.1, ordered_statistics=[OrderedStatistic(items_base=frozenset({'BOURNVITA'}), items_add=frozenset({'BREAD', 'TEA'}), confidence=0.5, lift=3.3333333333333335), OrderedStatistic(items_base=frozenset({'BREAD', 'TEA'}), items_add=frozenset({'BOURNVITA'}), confidence=0.6666666666666667, lift=3.3333333333333335)]),\n",
              " RelationRecord(items=frozenset({'BOURNVITA', 'SUGER', 'COFFEE'}), support=0.05, ordered_statistics=[OrderedStatistic(items_base=frozenset({'BOURNVITA', 'COFFEE'}), items_add=frozenset({'SUGER'}), confidence=1.0, lift=3.3333333333333335)]),\n",
              " RelationRecord(items=frozenset({'BREAD', 'MAGGI', 'JAM'}), support=0.1, ordered_statistics=[OrderedStatistic(items_base=frozenset({'JAM'}), items_add=frozenset({'BREAD', 'MAGGI'}), confidence=1.0, lift=6.666666666666667), OrderedStatistic(items_base=frozenset({'MAGGI'}), items_add=frozenset({'BREAD', 'JAM'}), confidence=0.4, lift=4.0), OrderedStatistic(items_base=frozenset({'BREAD', 'JAM'}), items_add=frozenset({'MAGGI'}), confidence=1.0, lift=4.0), OrderedStatistic(items_base=frozenset({'BREAD', 'MAGGI'}), items_add=frozenset({'JAM'}), confidence=0.6666666666666667, lift=6.666666666666667)]),\n",
              " RelationRecord(items=frozenset({'BREAD', 'None', 'MILK'}), support=0.05, ordered_statistics=[OrderedStatistic(items_base=frozenset({'MILK'}), items_add=frozenset({'BREAD', 'None'}), confidence=0.25, lift=5.0), OrderedStatistic(items_base=frozenset({'None'}), items_add=frozenset({'BREAD', 'MILK'}), confidence=1.0, lift=6.666666666666667), OrderedStatistic(items_base=frozenset({'BREAD', 'MILK'}), items_add=frozenset({'None'}), confidence=0.33333333333333337, lift=6.666666666666667), OrderedStatistic(items_base=frozenset({'BREAD', 'None'}), items_add=frozenset({'MILK'}), confidence=1.0, lift=5.0)]),\n",
              " RelationRecord(items=frozenset({'CORNFLAKES', 'SUGER', 'COFFEE'}), support=0.05, ordered_statistics=[OrderedStatistic(items_base=frozenset({'CORNFLAKES', 'COFFEE'}), items_add=frozenset({'SUGER'}), confidence=1.0, lift=3.3333333333333335)]),\n",
              " RelationRecord(items=frozenset({'TEA', 'COFFEE', 'MILK'}), support=0.05, ordered_statistics=[OrderedStatistic(items_base=frozenset({'MILK'}), items_add=frozenset({'COFFEE', 'TEA'}), confidence=0.25, lift=5.0), OrderedStatistic(items_base=frozenset({'COFFEE', 'MILK'}), items_add=frozenset({'TEA'}), confidence=1.0, lift=3.3333333333333335), OrderedStatistic(items_base=frozenset({'COFFEE', 'TEA'}), items_add=frozenset({'MILK'}), confidence=1.0, lift=5.0)]),\n",
              " RelationRecord(items=frozenset({'CORNFLAKES', 'MAGGI', 'TEA'}), support=0.05, ordered_statistics=[OrderedStatistic(items_base=frozenset({'CORNFLAKES'}), items_add=frozenset({'MAGGI', 'TEA'}), confidence=0.5, lift=3.3333333333333335), OrderedStatistic(items_base=frozenset({'MAGGI'}), items_add=frozenset({'CORNFLAKES', 'TEA'}), confidence=0.2, lift=4.0), OrderedStatistic(items_base=frozenset({'CORNFLAKES', 'MAGGI'}), items_add=frozenset({'TEA'}), confidence=1.0, lift=3.3333333333333335), OrderedStatistic(items_base=frozenset({'CORNFLAKES', 'TEA'}), items_add=frozenset({'MAGGI'}), confidence=1.0, lift=4.0), OrderedStatistic(items_base=frozenset({'MAGGI', 'TEA'}), items_add=frozenset({'CORNFLAKES'}), confidence=0.33333333333333337, lift=3.3333333333333335)])]"
            ]
          },
          "metadata": {},
          "execution_count": 26
        }
      ]
    },
    {
      "cell_type": "code",
      "metadata": {
        "colab": {
          "base_uri": "https://localhost:8080/",
          "height": 425
        },
        "id": "pUnijzrKNdVO",
        "outputId": "40958937-8058-4cbc-8420-c0f576a72904"
      },
      "source": [
        "def inspect(results):\n",
        "    lhs     =  [tuple(result [2] [0] [0]) [0] for result in results]\n",
        "    rhs     =  [tuple(result [2] [0] [1]) [0] for result in results]\n",
        "    supports = [result [1] for result in results]\n",
        "    confidences = [result [2] [0] [2]   for result in results]\n",
        "    lifts = [result [2] [0] [3]   for result in results]\n",
        "    return list(zip(lhs,rhs,supports,confidences, lifts))\n",
        "resultsinDataFrame = pd.DataFrame(inspect(results),columns = ['Left Hand Side', 'Right Hand Side', 'Support', 'Confidence', 'Lift'] )\n",
        "resultsinDataFrame"
      ],
      "execution_count": 22,
      "outputs": [
        {
          "output_type": "execute_result",
          "data": {
            "text/html": [
              "<div>\n",
              "<style scoped>\n",
              "    .dataframe tbody tr th:only-of-type {\n",
              "        vertical-align: middle;\n",
              "    }\n",
              "\n",
              "    .dataframe tbody tr th {\n",
              "        vertical-align: top;\n",
              "    }\n",
              "\n",
              "    .dataframe thead th {\n",
              "        text-align: right;\n",
              "    }\n",
              "</style>\n",
              "<table border=\"1\" class=\"dataframe\">\n",
              "  <thead>\n",
              "    <tr style=\"text-align: right;\">\n",
              "      <th></th>\n",
              "      <th>Left Hand Side</th>\n",
              "      <th>Right Hand Side</th>\n",
              "      <th>Support</th>\n",
              "      <th>Confidence</th>\n",
              "      <th>Lift</th>\n",
              "    </tr>\n",
              "  </thead>\n",
              "  <tbody>\n",
              "    <tr>\n",
              "      <th>0</th>\n",
              "      <td>JAM</td>\n",
              "      <td>MAGGI</td>\n",
              "      <td>0.10</td>\n",
              "      <td>1.000000</td>\n",
              "      <td>4.000000</td>\n",
              "    </tr>\n",
              "    <tr>\n",
              "      <th>1</th>\n",
              "      <td>MILK</td>\n",
              "      <td>None</td>\n",
              "      <td>0.05</td>\n",
              "      <td>0.250000</td>\n",
              "      <td>5.000000</td>\n",
              "    </tr>\n",
              "    <tr>\n",
              "      <th>2</th>\n",
              "      <td>MILK</td>\n",
              "      <td>BREAD</td>\n",
              "      <td>0.10</td>\n",
              "      <td>0.500000</td>\n",
              "      <td>3.333333</td>\n",
              "    </tr>\n",
              "    <tr>\n",
              "      <th>3</th>\n",
              "      <td>COCK</td>\n",
              "      <td>BISCUIT</td>\n",
              "      <td>0.10</td>\n",
              "      <td>0.666667</td>\n",
              "      <td>6.666667</td>\n",
              "    </tr>\n",
              "    <tr>\n",
              "      <th>4</th>\n",
              "      <td>MAGGI</td>\n",
              "      <td>BISCUIT</td>\n",
              "      <td>0.05</td>\n",
              "      <td>0.200000</td>\n",
              "      <td>4.000000</td>\n",
              "    </tr>\n",
              "    <tr>\n",
              "      <th>5</th>\n",
              "      <td>BOURNVITA</td>\n",
              "      <td>BREAD</td>\n",
              "      <td>0.10</td>\n",
              "      <td>0.500000</td>\n",
              "      <td>3.333333</td>\n",
              "    </tr>\n",
              "    <tr>\n",
              "      <th>6</th>\n",
              "      <td>BOURNVITA</td>\n",
              "      <td>SUGER</td>\n",
              "      <td>0.05</td>\n",
              "      <td>1.000000</td>\n",
              "      <td>3.333333</td>\n",
              "    </tr>\n",
              "    <tr>\n",
              "      <th>7</th>\n",
              "      <td>JAM</td>\n",
              "      <td>BREAD</td>\n",
              "      <td>0.10</td>\n",
              "      <td>1.000000</td>\n",
              "      <td>6.666667</td>\n",
              "    </tr>\n",
              "    <tr>\n",
              "      <th>8</th>\n",
              "      <td>MILK</td>\n",
              "      <td>BREAD</td>\n",
              "      <td>0.05</td>\n",
              "      <td>0.250000</td>\n",
              "      <td>5.000000</td>\n",
              "    </tr>\n",
              "    <tr>\n",
              "      <th>9</th>\n",
              "      <td>CORNFLAKES</td>\n",
              "      <td>SUGER</td>\n",
              "      <td>0.05</td>\n",
              "      <td>1.000000</td>\n",
              "      <td>3.333333</td>\n",
              "    </tr>\n",
              "    <tr>\n",
              "      <th>10</th>\n",
              "      <td>MILK</td>\n",
              "      <td>COFFEE</td>\n",
              "      <td>0.05</td>\n",
              "      <td>0.250000</td>\n",
              "      <td>5.000000</td>\n",
              "    </tr>\n",
              "    <tr>\n",
              "      <th>11</th>\n",
              "      <td>CORNFLAKES</td>\n",
              "      <td>MAGGI</td>\n",
              "      <td>0.05</td>\n",
              "      <td>0.500000</td>\n",
              "      <td>3.333333</td>\n",
              "    </tr>\n",
              "  </tbody>\n",
              "</table>\n",
              "</div>"
            ],
            "text/plain": [
              "   Left Hand Side Right Hand Side  Support  Confidence      Lift\n",
              "0             JAM           MAGGI     0.10    1.000000  4.000000\n",
              "1            MILK            None     0.05    0.250000  5.000000\n",
              "2            MILK           BREAD     0.10    0.500000  3.333333\n",
              "3            COCK         BISCUIT     0.10    0.666667  6.666667\n",
              "4           MAGGI         BISCUIT     0.05    0.200000  4.000000\n",
              "5       BOURNVITA           BREAD     0.10    0.500000  3.333333\n",
              "6       BOURNVITA           SUGER     0.05    1.000000  3.333333\n",
              "7             JAM           BREAD     0.10    1.000000  6.666667\n",
              "8            MILK           BREAD     0.05    0.250000  5.000000\n",
              "9      CORNFLAKES           SUGER     0.05    1.000000  3.333333\n",
              "10           MILK          COFFEE     0.05    0.250000  5.000000\n",
              "11     CORNFLAKES           MAGGI     0.05    0.500000  3.333333"
            ]
          },
          "metadata": {},
          "execution_count": 22
        }
      ]
    },
    {
      "cell_type": "markdown",
      "metadata": {
        "id": "NW6MP-SFnjYU"
      },
      "source": [
        "Using Apriori rule to get item that customers are likely to purshase in a store."
      ]
    },
    {
      "cell_type": "code",
      "metadata": {
        "id": "4fty5bKTnwUg"
      },
      "source": [
        ""
      ],
      "execution_count": null,
      "outputs": []
    }
  ]
}